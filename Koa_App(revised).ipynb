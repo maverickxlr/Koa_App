{
  "cells": [
    {
      "cell_type": "markdown",
      "metadata": {
        "id": "view-in-github",
        "colab_type": "text"
      },
      "source": [
        "<a href=\"https://colab.research.google.com/github/maverickxlr/Koa_App/blob/main/Koa_App(revised).ipynb\" target=\"_parent\"><img src=\"https://colab.research.google.com/assets/colab-badge.svg\" alt=\"Open In Colab\"/></a>"
      ]
    },
    {
      "cell_type": "code",
      "execution_count": null,
      "metadata": {
        "id": "fPgYPCUzVxWE"
      },
      "outputs": [],
      "source": [
        "import tensorflow as tf\n",
        "from tensorflow import keras\n",
        "from keras.models import Model\n",
        "from google.colab import drive\n",
        "from keras.utils.image_utils import img_to_array\n",
        "from skimage import io\n",
        "from numpy import asarray\n",
        "from PIL import Image"
      ]
    },
    {
      "cell_type": "code",
      "execution_count": null,
      "metadata": {
        "colab": {
          "base_uri": "https://localhost:8080/"
        },
        "id": "6aFWsub9Oyyh",
        "outputId": "766d4870-9d38-4e29-c4d0-00f588698a5e"
      },
      "outputs": [
        {
          "name": "stdout",
          "output_type": "stream",
          "text": [
            "Looking in indexes: https://pypi.org/simple, https://us-python.pkg.dev/colab-wheels/public/simple/\n",
            "Requirement already satisfied: streamlit in /usr/local/lib/python3.10/dist-packages (1.22.0)\n",
            "Requirement already satisfied: requests>=2.4 in /usr/local/lib/python3.10/dist-packages (from streamlit) (2.27.1)\n",
            "Requirement already satisfied: tornado>=6.0.3 in /usr/local/lib/python3.10/dist-packages (from streamlit) (6.2)\n",
            "Requirement already satisfied: watchdog in /usr/local/lib/python3.10/dist-packages (from streamlit) (3.0.0)\n",
            "Requirement already satisfied: rich>=10.11.0 in /usr/local/lib/python3.10/dist-packages (from streamlit) (13.3.4)\n",
            "Requirement already satisfied: pympler>=0.9 in /usr/local/lib/python3.10/dist-packages (from streamlit) (1.0.1)\n",
            "Requirement already satisfied: pillow>=6.2.0 in /usr/local/lib/python3.10/dist-packages (from streamlit) (8.4.0)\n",
            "Requirement already satisfied: toml in /usr/local/lib/python3.10/dist-packages (from streamlit) (0.10.2)\n",
            "Requirement already satisfied: click>=7.0 in /usr/local/lib/python3.10/dist-packages (from streamlit) (8.1.3)\n",
            "Requirement already satisfied: python-dateutil in /usr/local/lib/python3.10/dist-packages (from streamlit) (2.8.2)\n",
            "Requirement already satisfied: validators>=0.2 in /usr/local/lib/python3.10/dist-packages (from streamlit) (0.20.0)\n",
            "Requirement already satisfied: blinker>=1.0.0 in /usr/local/lib/python3.10/dist-packages (from streamlit) (1.6.2)\n",
            "Requirement already satisfied: protobuf<4,>=3.12 in /usr/local/lib/python3.10/dist-packages (from streamlit) (3.20.3)\n",
            "Requirement already satisfied: typing-extensions>=3.10.0.0 in /usr/local/lib/python3.10/dist-packages (from streamlit) (4.5.0)\n",
            "Requirement already satisfied: numpy in /usr/local/lib/python3.10/dist-packages (from streamlit) (1.22.4)\n",
            "Requirement already satisfied: cachetools>=4.0 in /usr/local/lib/python3.10/dist-packages (from streamlit) (5.3.0)\n",
            "Requirement already satisfied: altair<5,>=3.2.0 in /usr/local/lib/python3.10/dist-packages (from streamlit) (4.2.2)\n",
            "Requirement already satisfied: pydeck>=0.1.dev5 in /usr/local/lib/python3.10/dist-packages (from streamlit) (0.8.1b0)\n",
            "Requirement already satisfied: pyarrow>=4.0 in /usr/local/lib/python3.10/dist-packages (from streamlit) (9.0.0)\n",
            "Requirement already satisfied: gitpython!=3.1.19 in /usr/local/lib/python3.10/dist-packages (from streamlit) (3.1.31)\n",
            "Requirement already satisfied: importlib-metadata>=1.4 in /usr/local/lib/python3.10/dist-packages (from streamlit) (6.6.0)\n",
            "Requirement already satisfied: packaging>=14.1 in /usr/local/lib/python3.10/dist-packages (from streamlit) (23.1)\n",
            "Requirement already satisfied: tzlocal>=1.1 in /usr/local/lib/python3.10/dist-packages (from streamlit) (4.3)\n",
            "Requirement already satisfied: pandas<3,>=0.25 in /usr/local/lib/python3.10/dist-packages (from streamlit) (1.5.3)\n",
            "Requirement already satisfied: tenacity<9,>=8.0.0 in /usr/local/lib/python3.10/dist-packages (from streamlit) (8.2.2)\n",
            "Requirement already satisfied: jsonschema>=3.0 in /usr/local/lib/python3.10/dist-packages (from altair<5,>=3.2.0->streamlit) (4.3.3)\n",
            "Requirement already satisfied: entrypoints in /usr/local/lib/python3.10/dist-packages (from altair<5,>=3.2.0->streamlit) (0.4)\n",
            "Requirement already satisfied: toolz in /usr/local/lib/python3.10/dist-packages (from altair<5,>=3.2.0->streamlit) (0.12.0)\n",
            "Requirement already satisfied: jinja2 in /usr/local/lib/python3.10/dist-packages (from altair<5,>=3.2.0->streamlit) (3.1.2)\n",
            "Requirement already satisfied: gitdb<5,>=4.0.1 in /usr/local/lib/python3.10/dist-packages (from gitpython!=3.1.19->streamlit) (4.0.10)\n",
            "Requirement already satisfied: zipp>=0.5 in /usr/local/lib/python3.10/dist-packages (from importlib-metadata>=1.4->streamlit) (3.15.0)\n",
            "Requirement already satisfied: pytz>=2020.1 in /usr/local/lib/python3.10/dist-packages (from pandas<3,>=0.25->streamlit) (2022.7.1)\n",
            "Requirement already satisfied: six>=1.5 in /usr/local/lib/python3.10/dist-packages (from python-dateutil->streamlit) (1.16.0)\n",
            "Requirement already satisfied: urllib3<1.27,>=1.21.1 in /usr/local/lib/python3.10/dist-packages (from requests>=2.4->streamlit) (1.26.15)\n",
            "Requirement already satisfied: certifi>=2017.4.17 in /usr/local/lib/python3.10/dist-packages (from requests>=2.4->streamlit) (2022.12.7)\n",
            "Requirement already satisfied: idna<4,>=2.5 in /usr/local/lib/python3.10/dist-packages (from requests>=2.4->streamlit) (3.4)\n",
            "Requirement already satisfied: charset-normalizer~=2.0.0 in /usr/local/lib/python3.10/dist-packages (from requests>=2.4->streamlit) (2.0.12)\n",
            "Requirement already satisfied: markdown-it-py<3.0.0,>=2.2.0 in /usr/local/lib/python3.10/dist-packages (from rich>=10.11.0->streamlit) (2.2.0)\n",
            "Requirement already satisfied: pygments<3.0.0,>=2.13.0 in /usr/local/lib/python3.10/dist-packages (from rich>=10.11.0->streamlit) (2.14.0)\n",
            "Requirement already satisfied: pytz-deprecation-shim in /usr/local/lib/python3.10/dist-packages (from tzlocal>=1.1->streamlit) (0.1.0.post0)\n",
            "Requirement already satisfied: decorator>=3.4.0 in /usr/local/lib/python3.10/dist-packages (from validators>=0.2->streamlit) (4.4.2)\n",
            "Requirement already satisfied: smmap<6,>=3.0.1 in /usr/local/lib/python3.10/dist-packages (from gitdb<5,>=4.0.1->gitpython!=3.1.19->streamlit) (5.0.0)\n",
            "Requirement already satisfied: MarkupSafe>=2.0 in /usr/local/lib/python3.10/dist-packages (from jinja2->altair<5,>=3.2.0->streamlit) (2.1.2)\n",
            "Requirement already satisfied: pyrsistent!=0.17.0,!=0.17.1,!=0.17.2,>=0.14.0 in /usr/local/lib/python3.10/dist-packages (from jsonschema>=3.0->altair<5,>=3.2.0->streamlit) (0.19.3)\n",
            "Requirement already satisfied: attrs>=17.4.0 in /usr/local/lib/python3.10/dist-packages (from jsonschema>=3.0->altair<5,>=3.2.0->streamlit) (23.1.0)\n",
            "Requirement already satisfied: mdurl~=0.1 in /usr/local/lib/python3.10/dist-packages (from markdown-it-py<3.0.0,>=2.2.0->rich>=10.11.0->streamlit) (0.1.2)\n",
            "Requirement already satisfied: tzdata in /usr/local/lib/python3.10/dist-packages (from pytz-deprecation-shim->tzlocal>=1.1->streamlit) (2023.3)\n"
          ]
        }
      ],
      "source": [
        "!pip install streamlit \n"
      ]
    },
    {
      "cell_type": "code",
      "execution_count": null,
      "metadata": {
        "id": "Um7OSY_mkVgq"
      },
      "outputs": [],
      "source": [
        "#!pip install --upgrade streamlit"
      ]
    },
    {
      "cell_type": "code",
      "execution_count": null,
      "metadata": {
        "id": "jfLmUkY_ygdL"
      },
      "outputs": [],
      "source": [
        "#!pip install pyngrok"
      ]
    },
    {
      "cell_type": "code",
      "execution_count": null,
      "metadata": {
        "colab": {
          "base_uri": "https://localhost:8080/"
        },
        "id": "o7EC3o5iO1lV",
        "outputId": "23ff6340-f95f-4bf3-ee2e-ab9447294541"
      },
      "outputs": [
        {
          "name": "stdout",
          "output_type": "stream",
          "text": [
            "Drive already mounted at /content/drive; to attempt to forcibly remount, call drive.mount(\"/content/drive\", force_remount=True).\n"
          ]
        }
      ],
      "source": [
        "drive.mount('/content/drive')"
      ]
    },
    {
      "cell_type": "code",
      "execution_count": null,
      "metadata": {
        "colab": {
          "base_uri": "https://localhost:8080/"
        },
        "id": "oXgxtFXzpvZo",
        "outputId": "f3a63132-577d-4b74-d026-e0999d62a91f"
      },
      "outputs": [
        {
          "name": "stdout",
          "output_type": "stream",
          "text": [
            "Overwriting app1.py\n"
          ]
        }
      ],
      "source": [
        "%%writefile app1.py \n",
        "import streamlit as st\n",
        "import cv2\n",
        "import io\n",
        "from PIL import Image\n",
        "import tensorflow as tf\n",
        "from tensorflow import keras\n",
        "import numpy as np\n",
        "from keras.utils.image_utils import img_to_array\n",
        "\n",
        "\n",
        "\n",
        "map_dict1 = {0: 'Healthy knee image'}\n",
        "map_dict2 = {0: 'Grade 1 (Doubtful)',\n",
        "             1: 'Grade 2 (Minimal)',\n",
        "             2: 'Grade 3 (Moderate)',\n",
        "             3: 'Grade 4 (Severe)'}\n",
        "\n",
        "\n",
        "\n",
        "def image_preprocessing(uploaded_file):\n",
        "    image = np.asarray(bytearray(uploaded_file.read()), dtype=np.uint8)\n",
        "    image = cv2.imdecode(image,1)\n",
        "    image = Image.fromarray(image)        \n",
        "    image = image.resize((224,224)) \n",
        "    image= img_to_array(image)\n",
        "    image= np.expand_dims(image, axis=0)\n",
        "    return image\n",
        "\n",
        "@st.cache_resource\n",
        "def load_binarymodel():\n",
        "    binary_model = tf.keras.models.load_model('/content/drive/MyDrive/Saved_models/Resnet_binary/weights-improvement-36-0.94.hdf5')\n",
        "    return binary_model\n",
        "\n",
        "@st.cache_resource\n",
        "def load_multiclassmodel():\n",
        "    multiclass_model = tf.keras.models.load_model('/content/drive/MyDrive/Saved_models/Resnet_multiclass_onehotencoded/weights-improvement-26-1.00.hdf5.hdf5')\n",
        "    return multiclass_model\n",
        "\n",
        "\n",
        "#st.title(\"Knee Osteoarthritis Detector\")\n",
        "st.image(\"/content/drive/MyDrive/Screenshot logo 2.png\")\n",
        "st.text(\"This application predicts Knee Osteoarthritis severity by analyzing X-Ray images.\")\n",
        "st.sidebar.title(\"About This App\")\n",
        "st.sidebar.markdown(\"The application determines the severity of knee osteoarthritis on the basis of KL grade classification, by using machine learning algorithms.\")\n",
        "st.sidebar.title(\"Classification Grades\")\n",
        "st.sidebar.header(\"Grade 0 (none):\")\n",
        "st.sidebar.markdown(\"Definite absence of x-ray changes of osteoarthritis\")\n",
        "st.sidebar.header(\"Grade 1 (doubtful):\")\n",
        "st.sidebar.markdown(\"Doubtful joint space narrowing and possible osteophytic lipping\")\n",
        "st.sidebar.header(\"Grade 2 (minimal):\")\n",
        "st.sidebar.markdown(\"Definite osteophytes and possible joint space narrowing\")\n",
        "st.sidebar.header(\"Grade 3 (moderate):\")\n",
        "st.sidebar.markdown(\"Moderate multiple osteophytes, definite narrowing of joint space and some sclerosis and possible deformity of bone ends\")\n",
        "st.sidebar.header(\"Grade 4 (severe):\")\n",
        "st.sidebar.markdown(\"Large osteophytes, marked narrowing of joint space, severe sclerosis and definite deformity of bone ends\")\n",
        "#st.sidebar.image(\"/content/drive/MyDrive/The-KL-grading-system-to-assess-the-severity-of-knee-OA-Source.png\",width=None,use_column_width='never')\n",
        "\n",
        "### load file\n",
        "uploaded_file = st.file_uploader(\"Please upload an X-Ray image\", type=['png','jpeg','jpg'])\n",
        " \n",
        "#picture = st.camera_input(\"Take a picture\")\n",
        "\n",
        "if uploaded_file is not None:\n",
        "    st.image(uploaded_file, caption='Uploaded Image.')\n",
        "\n",
        "#if picture is not None:\n",
        "    #st.image(picture,caption='Captured Image')    \n",
        "\n",
        "Generate_pred = st.button(\"Generate Prediction\")   \n",
        "\n",
        "if uploaded_file is not None:\n",
        "   if Generate_pred:\n",
        "      image=image_preprocessing(uploaded_file)\n",
        "\n",
        "      binary_prediction = load_binarymodel().predict(image)\n",
        "      binary_pred = (binary_prediction>=0.5).astype(int)\n",
        "  \n",
        "      if (binary_pred<0.5):\n",
        "          st.title(\"Healthy knee image\")\n",
        "      else:\n",
        "          multiclass_prediction = load_multiclassmodel().predict(image).argmax()\n",
        "          st.title(\"Prediction: {}\".format(map_dict2 [multiclass_prediction])) \n",
        "\n",
        "#if picture is not None:\n",
        "   #if Generate_pred:\n",
        "      #image=image_preprocessing(picture)\n",
        "\n",
        "      #binary_prediction = load_binarymodel().predict(image)\n",
        "      #binary_pred = (binary_prediction>=0.5).astype(int)\n",
        "  \n",
        "      #if (binary_pred<0.5):\n",
        "          #st.title(\"Healthy knee image\")\n",
        "      #else:\n",
        "          #multiclass_prediction = load_multiclassmodel().predict(image).argmax()\n",
        "          #st.title(\"Prediction: {}\".format(map_dict2 [multiclass_prediction])) \n",
        "          \n"
      ]
    },
    {
      "cell_type": "code",
      "execution_count": null,
      "metadata": {
        "id": "ulGrT0fd-jJJ"
      },
      "outputs": [],
      "source": [
        "#from pyngrok import ngrok\n",
        "#ngrok.set_auth_token(\"2OeFs65fVdnXWfT7l2qU6ZxZDvy_5tsPNwaGxvNMDHJkvRnk1\")"
      ]
    },
    {
      "cell_type": "code",
      "execution_count": null,
      "metadata": {
        "colab": {
          "background_save": true,
          "base_uri": "https://localhost:8080/"
        },
        "id": "tz9CsBRWHoE4",
        "outputId": "2f4385f2-dbd3-4066-eeb5-d9377631ce7c"
      },
      "outputs": [
        {
          "name": "stdout",
          "output_type": "stream",
          "text": [
            "[#######...........] / extract:localtunnel: verb lock using /root/.npm/_locks/s\u001b[0m\u001b[K\n",
            "Collecting usage statistics. To deactivate, set browser.gatherUsageStats to False.\n",
            "\u001b[0m\n",
            "\u001b[K\u001b[?25hnpx: installed 22 in 5.366s\n",
            "your url is: https://silly-cloths-roll-34-74-202-167.loca.lt\n",
            "\u001b[0m\n",
            "\u001b[34m\u001b[1m  You can now view your Streamlit app in your browser.\u001b[0m\n",
            "\u001b[0m\n",
            "\u001b[34m  Network URL: \u001b[0m\u001b[1mhttp://172.28.0.12:8501\u001b[0m\n",
            "\u001b[34m  External URL: \u001b[0m\u001b[1mhttp://34.74.202.167:8501\u001b[0m\n",
            "\u001b[0m\n",
            "2023-05-01 08:37:51.412395: W tensorflow/compiler/tf2tensorrt/utils/py_utils.cc:38] TF-TRT Warning: Could not find TensorRT\n",
            "1/1 [==============================] - 1s 1s/step\n",
            "1/1 [==============================] - 1s 577ms/step\n",
            "1/1 [==============================] - 1s 1s/step\n"
          ]
        }
      ],
      "source": [
        "!streamlit run app1.py & npx localtunnel --port 8501\n"
      ]
    },
    {
      "cell_type": "code",
      "execution_count": null,
      "metadata": {
        "id": "khufW65oAY1h"
      },
      "outputs": [],
      "source": [
        "#!nohup streamlit run app.py --server.port 80  & \n",
        "#url = ngrok.connect()\n",
        "#print(url) #generates our URL\n",
        "#streamlit run --server.port 9095 app.py >/dev/null #used for starting our server"
      ]
    }
  ],
  "metadata": {
    "colab": {
      "provenance": [],
      "authorship_tag": "ABX9TyMqlQSdeJeLzbzYUDJrLu8T",
      "include_colab_link": true
    },
    "kernelspec": {
      "display_name": "Python 3",
      "name": "python3"
    },
    "language_info": {
      "name": "python"
    }
  },
  "nbformat": 4,
  "nbformat_minor": 0
}